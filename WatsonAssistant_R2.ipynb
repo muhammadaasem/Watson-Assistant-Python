{
 "cells": [
  {
   "cell_type": "markdown",
   "metadata": {},
   "source": [
    "# Watson Assistant r1"
   ]
  },
  {
   "cell_type": "markdown",
   "metadata": {},
   "source": [
    "https://cloud.ibm.com/apidocs/assistant-v1?code=python"
   ]
  },
  {
   "cell_type": "raw",
   "metadata": {},
   "source": [
    "# !pip install ibm_watson"
   ]
  },
  {
   "cell_type": "code",
   "execution_count": 1,
   "metadata": {},
   "outputs": [],
   "source": [
    "# env: maasem@pk.ibm.com \n",
    "apikey=\"B9E5vI6GxsdYiYJV05cZNdKZV1hq2syrmKO90EWPbfVL\"\n",
    "url=\"https://api.us-south.assistant.watson.cloud.ibm.com/instances/60540400-1d6e-49a8-b305-2d0a1090a7af\"\n",
    "workspace_id=\"bc905f43-1dbd-4e67-96a3-108b33d585e6\"    "
   ]
  },
  {
   "cell_type": "code",
   "execution_count": 2,
   "metadata": {},
   "outputs": [],
   "source": [
    "import requests\n",
    "import json\n",
    "from ibm_watson import AssistantV1\n",
    "from ibm_cloud_sdk_core.authenticators import IAMAuthenticator\n",
    "\n",
    "authenticator = IAMAuthenticator(apikey)\n",
    "assistant = AssistantV1(\n",
    "    version='2021-06-14',\n",
    "    authenticator = authenticator\n",
    ")\n",
    "assistant.set_service_url(url)"
   ]
  },
  {
   "cell_type": "markdown",
   "metadata": {},
   "source": [
    "## Load external functions"
   ]
  },
  {
   "cell_type": "code",
   "execution_count": 3,
   "metadata": {},
   "outputs": [],
   "source": [
    "def action_joke(f=r\"https://api.chucknorris.io/jokes/random\"):\n",
    "    data = requests.get(f)\n",
    "    joke = json.loads(data.text)\n",
    "    print (joke['value'])"
   ]
  },
  {
   "cell_type": "markdown",
   "metadata": {},
   "source": [
    "# Get response to user input"
   ]
  },
  {
   "cell_type": "code",
   "execution_count": 4,
   "metadata": {},
   "outputs": [],
   "source": [
    "def getResponse_OutputGenericText(str_input , str_workspace_id=workspace_id):\n",
    "    response = assistant.message(\n",
    "    workspace_id=str_workspace_id,\n",
    "    input={'text': str_input,\n",
    "           }\n",
    "    ).get_result()\n",
    "    \n",
    "    try:\n",
    "        COUNT_output_generic=len(response[\"output\"][\"generic\"])\n",
    "        for i in range(COUNT_output_generic):\n",
    "            text = (response[\"output\"][\"generic\"][i][\"text\"])\n",
    "            print (text)\n",
    "        if \"action\" in response['context']:\n",
    "            if (response['context']['action']=='apicall-joke'):\n",
    "                action_joke()\n",
    "        return response\n",
    "    except Exception as e:\n",
    "        if (str(e)=='list index out of range'):\n",
    "            print (\"Error 101: Node is missing response.\")## todo: print nodes_visited too         \n",
    "        return str(e)\n"
   ]
  },
  {
   "cell_type": "code",
   "execution_count": 7,
   "metadata": {},
   "outputs": [
    {
     "name": "stdout",
     "output_type": "stream",
     "text": [
      "ok..Let me tell you a joke\n",
      "Out of sheer boredom, Chuck Norris once stabbed an elephant to death, with a toothpick!\n"
     ]
    }
   ],
   "source": [
    "res=getResponse_OutputGenericText(\"tell me a joke\")"
   ]
  },
  {
   "cell_type": "code",
   "execution_count": 6,
   "metadata": {},
   "outputs": [
    {
     "data": {
      "text/plain": [
       "{'intents': [{'intent': 'chitchatjoke', 'confidence': 1}],\n",
       " 'entities': [],\n",
       " 'input': {'text': 'tell me a joke'},\n",
       " 'output': {'generic': [{'response_type': 'text',\n",
       "    'text': 'ok..Let me tell you a joke'}],\n",
       "  'text': ['ok..Let me tell you a joke'],\n",
       "  'nodes_visited': ['node_7_1631353411038'],\n",
       "  'log_messages': []},\n",
       " 'context': {'conversation_id': 'a6480a87-1f7b-4104-aa63-64c8bc24d198',\n",
       "  'system': {'initialized': True,\n",
       "   'dialog_stack': [{'dialog_node': 'root'}],\n",
       "   'dialog_turn_counter': 1,\n",
       "   'dialog_request_counter': 1,\n",
       "   '_node_output_map': {'node_7_1631353411038': {'0': [0]}},\n",
       "   'last_branch_node': 'node_7_1631353411038',\n",
       "   'branch_exited': True,\n",
       "   'branch_exited_reason': 'completed'},\n",
       "  'action': 'apicall-joke',\n",
       "  'metadata': {'user_id': 'a6480a87-1f7b-4104-aa63-64c8bc24d198'}},\n",
       " 'user_id': 'a6480a87-1f7b-4104-aa63-64c8bc24d198'}"
      ]
     },
     "execution_count": 6,
     "metadata": {},
     "output_type": "execute_result"
    }
   ],
   "source": [
    "res"
   ]
  },
  {
   "cell_type": "code",
   "execution_count": null,
   "metadata": {},
   "outputs": [],
   "source": []
  }
 ],
 "metadata": {
  "kernelspec": {
   "display_name": "Python 3",
   "language": "python",
   "name": "python3"
  },
  "language_info": {
   "codemirror_mode": {
    "name": "ipython",
    "version": 3
   },
   "file_extension": ".py",
   "mimetype": "text/x-python",
   "name": "python",
   "nbconvert_exporter": "python",
   "pygments_lexer": "ipython3",
   "version": "3.8.3"
  }
 },
 "nbformat": 4,
 "nbformat_minor": 4
}
