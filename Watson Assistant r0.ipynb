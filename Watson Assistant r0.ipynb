{
 "cells": [
  {
   "cell_type": "markdown",
   "metadata": {},
   "source": [
    "# Watson Assistant r0"
   ]
  },
  {
   "cell_type": "code",
   "execution_count": null,
   "metadata": {},
   "outputs": [],
   "source": [
    "# env: CCAD- UAT -Voice\n",
    "apikey=\"Sb_dky4vqP_EfhF97KdFVaVZtiNVJGMM9BYVaspWxoQC\"\n",
    "url=\"https://gateway-fra.watsonplatform.net/assistant/api\"\n",
    "workspace_id=\"8090a19f-cc1f-4ef0-9fc0-eba06483ceee\"  "
   ]
  },
  {
   "cell_type": "code",
   "execution_count": null,
   "metadata": {},
   "outputs": [],
   "source": [
    "# env: maasem@pk.ibm.com \n",
    "apikey=\"B9E5vI6GxsdYiYJV05cZNdKZV1hq2syrmKO90EWPbfVL\"\n",
    "url=\"https://api.us-south.assistant.watson.cloud.ibm.com/instances/60540400-1d6e-49a8-b305-2d0a1090a7af\"\n",
    "workspace_id=\"bc905f43-1dbd-4e67-96a3-108b33d585e6\"  "
   ]
  },
  {
   "cell_type": "code",
   "execution_count": 12,
   "metadata": {},
   "outputs": [],
   "source": [
    "# env: maasem@pk.ibm.com \n",
    "apikey=\"B9E5vI6GxsdYiYJV05cZNdKZV1hq2syrmKO90EWPbfVL\"\n",
    "url=\"https://api.us-south.assistant.watson.cloud.ibm.com\"\n",
    "workspace_id=\"bc905f43-1dbd-4e67-96a3-108b33d585e6\"  "
   ]
  },
  {
   "cell_type": "code",
   "execution_count": 13,
   "metadata": {},
   "outputs": [],
   "source": [
    "import requests\n",
    "import json\n",
    "from ibm_watson import AssistantV1\n",
    "from ibm_cloud_sdk_core.authenticators import IAMAuthenticator\n",
    "\n",
    "authenticator = IAMAuthenticator(apikey)\n",
    "assistant = AssistantV1(\n",
    "    version='2021-06-14',\n",
    "    authenticator = authenticator\n",
    ")\n",
    "assistant.set_service_url(url)"
   ]
  },
  {
   "cell_type": "code",
   "execution_count": 14,
   "metadata": {},
   "outputs": [
    {
     "name": "stdout",
     "output_type": "stream",
     "text": [
      "hello\n"
     ]
    },
    {
     "data": {
      "text/plain": [
       "{'intents': [{'intent': 'GREETING', 'confidence': 0.2630840241909027}],\n",
       " 'entities': [],\n",
       " 'input': {'text': 'welcome'},\n",
       " 'output': {'generic': [{'response_type': 'text', 'text': 'hello'},\n",
       "   {'response_type': 'text', 'text': 'how are you'}],\n",
       "  'text': ['hello', 'how are you'],\n",
       "  'nodes_visited': ['node_8_1631330257741'],\n",
       "  'log_messages': []},\n",
       " 'context': {'conversation_id': 'b17bba0a-ef47-4e18-99f1-ef6f2ca6d927',\n",
       "  'system': {'initialized': True,\n",
       "   'dialog_stack': [{'dialog_node': 'root'}],\n",
       "   'dialog_turn_counter': 1,\n",
       "   'dialog_request_counter': 1,\n",
       "   'suggestions': {'metadata': {},\n",
       "    'suggestions': [{'suggestion_id': 'd:9eddea12-508c-4152-b129-c7dceef6380f',\n",
       "      'position': 0,\n",
       "      'origin': 'disambiguation'}]},\n",
       "   'last_disambiguation_event_id': '65602df7-235d-4e7d-a01b-2ddac8b217a4',\n",
       "   '_node_output_map': {'node_8_1631330257741': {'0': [0], '1': [0]}},\n",
       "   'last_branch_node': 'node_8_1631330257741',\n",
       "   'branch_exited': True,\n",
       "   'branch_exited_reason': 'completed'},\n",
       "  'metadata': {'user_id': 'b17bba0a-ef47-4e18-99f1-ef6f2ca6d927'}},\n",
       " 'user_id': 'b17bba0a-ef47-4e18-99f1-ef6f2ca6d927'}"
      ]
     },
     "execution_count": 14,
     "metadata": {},
     "output_type": "execute_result"
    }
   ],
   "source": [
    "lastcontext={}\n",
    "response = assistant.message(\n",
    "    workspace_id=workspace_id,\n",
    "    input={\n",
    "        'text': 'welcome'\n",
    "    },\n",
    "    context = lastcontext\n",
    ").get_result()\n",
    "print (response[\"output\"][\"generic\"][0][\"text\"])\n",
    "response"
   ]
  },
  {
   "cell_type": "code",
   "execution_count": 6,
   "metadata": {},
   "outputs": [
    {
     "name": "stdout",
     "output_type": "stream",
     "text": [
      "Can you please tell me your primary symptom?\n"
     ]
    },
    {
     "data": {
      "text/plain": [
       "{'intents': [{'intent': 'PATIENT_BOOKING_APT', 'confidence': 1}],\n",
       " 'entities': [],\n",
       " 'input': {'text': 'book an appointment'},\n",
       " 'output': {'generic': [{'response_type': 'text',\n",
       "    'text': 'Can you please tell me your primary symptom?'}],\n",
       "  'text': ['Can you please tell me your primary symptom?'],\n",
       "  'nodes_visited': ['node_10_1631211451547',\n",
       "   'handler_10_1631211525041',\n",
       "   'slot_4_1631211525030'],\n",
       "  'log_messages': []},\n",
       " 'context': {'conversation_id': 'f4bfbfa3-59ad-451f-81cb-45af6ecde4dc',\n",
       "  'system': {'initialized': True,\n",
       "   'dialog_stack': [{'dialog_node': 'slot_4_1631211525030',\n",
       "     'state': 'in_progress'}],\n",
       "   'dialog_turn_counter': 2,\n",
       "   'dialog_request_counter': 2,\n",
       "   'suggestions': {'metadata': {},\n",
       "    'suggestions': [{'suggestion_id': 'd:956a86fe-4424-48c9-a567-2f00b4f389ee',\n",
       "      'position': 0,\n",
       "      'origin': 'disambiguation'}]},\n",
       "   'last_disambiguation_event_id': '5ea74fcb-46b0-4ead-8c16-5822c4852ed5',\n",
       "   '_node_output_map': {'node_8_1631330257741': {'0': [0], '1': [0]},\n",
       "    'handler_10_1631211525041': {'0': [0]}},\n",
       "   'last_branch_node': 'node_5_1631211422239'},\n",
       "  'metadata': {'user_id': 'f4bfbfa3-59ad-451f-81cb-45af6ecde4dc'},\n",
       "  'flow': 'NEW BOOKING'},\n",
       " 'user_id': 'f4bfbfa3-59ad-451f-81cb-45af6ecde4dc'}"
      ]
     },
     "execution_count": 6,
     "metadata": {},
     "output_type": "execute_result"
    }
   ],
   "source": [
    "lastcontext=response['context']\n",
    "response = assistant.message(\n",
    "    workspace_id=workspace_id,\n",
    "    input={\n",
    "        'text': 'book an appointment'\n",
    "    },\n",
    "    context = lastcontext\n",
    ").get_result()\n",
    "lastcontext=response['context']\n",
    "print (response[\"output\"][\"generic\"][0][\"text\"])\n",
    "response"
   ]
  },
  {
   "cell_type": "code",
   "execution_count": 11,
   "metadata": {},
   "outputs": [
    {
     "name": "stdout",
     "output_type": "stream",
     "text": [
      "ok..Let me tell you a joke\n"
     ]
    }
   ],
   "source": [
    "lastcontext=response['context']\n",
    "response = assistant.message(\n",
    "    workspace_id=workspace_id,\n",
    "    input={\n",
    "        'text': 'Tell me a joke'\n",
    "    },\n",
    "    context = lastcontext\n",
    ").get_result()\n",
    "lastcontext=response['context']\n",
    "print (response[\"output\"][\"generic\"][0][\"text\"])"
   ]
  },
  {
   "cell_type": "code",
   "execution_count": 8,
   "metadata": {},
   "outputs": [
    {
     "data": {
      "text/plain": [
       "{'intents': [],\n",
       " 'entities': [{'entity': 'Symptoms',\n",
       "   'location': [0, 12],\n",
       "   'value': 'Hypertension',\n",
       "   'confidence': 1}],\n",
       " 'input': {'text': 'hypertension'},\n",
       " 'output': {'generic': [{'response_type': 'text',\n",
       "    'text': 'Do you want to book appointment for Hypertension? '}],\n",
       "  'text': ['Do you want to book appointment for Hypertension? '],\n",
       "  'nodes_visited': ['slot_4_1631211525030',\n",
       "   'handler_9_1631211525041',\n",
       "   'response_9_1631211617411',\n",
       "   'node_10_1631211451547'],\n",
       "  'log_messages': []},\n",
       " 'context': {'conversation_id': 'f4bfbfa3-59ad-451f-81cb-45af6ecde4dc',\n",
       "  'system': {'initialized': True,\n",
       "   'dialog_stack': [{'dialog_node': 'node_10_1631211451547'}],\n",
       "   'dialog_turn_counter': 3,\n",
       "   'dialog_request_counter': 3,\n",
       "   'suggestions': {'metadata': {},\n",
       "    'suggestions': [{'suggestion_id': 'd:956a86fe-4424-48c9-a567-2f00b4f389ee',\n",
       "      'position': 0,\n",
       "      'origin': 'disambiguation'}]},\n",
       "   'last_disambiguation_event_id': '5ea74fcb-46b0-4ead-8c16-5822c4852ed5',\n",
       "   '_node_output_map': {'node_8_1631330257741': {'0': [0], '1': [0]},\n",
       "    'handler_10_1631211525041': {'0': [0]},\n",
       "    'response_9_1631211617411': {'0': [0]}},\n",
       "   'last_branch_node': 'node_5_1631211422239'},\n",
       "  'metadata': {'user_id': 'f4bfbfa3-59ad-451f-81cb-45af6ecde4dc'},\n",
       "  'flow': 'NEW BOOKING',\n",
       "  'Symptoms': 'Hypertension'},\n",
       " 'user_id': 'f4bfbfa3-59ad-451f-81cb-45af6ecde4dc'}"
      ]
     },
     "execution_count": 8,
     "metadata": {},
     "output_type": "execute_result"
    }
   ],
   "source": [
    "response"
   ]
  },
  {
   "cell_type": "code",
   "execution_count": 9,
   "metadata": {},
   "outputs": [
    {
     "ename": "SyntaxError",
     "evalue": "invalid syntax (<ipython-input-9-a76844c13702>, line 1)",
     "output_type": "error",
     "traceback": [
      "\u001b[0;36m  File \u001b[0;32m\"<ipython-input-9-a76844c13702>\"\u001b[0;36m, line \u001b[0;32m1\u001b[0m\n\u001b[0;31m    tell me a joke\u001b[0m\n\u001b[0m         ^\u001b[0m\n\u001b[0;31mSyntaxError\u001b[0m\u001b[0;31m:\u001b[0m invalid syntax\n"
     ]
    }
   ],
   "source": [
    "tell me a joke"
   ]
  },
  {
   "cell_type": "code",
   "execution_count": null,
   "metadata": {},
   "outputs": [],
   "source": []
  }
 ],
 "metadata": {
  "kernelspec": {
   "display_name": "Python 3",
   "language": "python",
   "name": "python3"
  },
  "language_info": {
   "codemirror_mode": {
    "name": "ipython",
    "version": 3
   },
   "file_extension": ".py",
   "mimetype": "text/x-python",
   "name": "python",
   "nbconvert_exporter": "python",
   "pygments_lexer": "ipython3",
   "version": "3.8.3"
  }
 },
 "nbformat": 4,
 "nbformat_minor": 4
}
